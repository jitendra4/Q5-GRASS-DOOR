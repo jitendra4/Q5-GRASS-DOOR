{
 "cells": [
  {
   "cell_type": "code",
   "execution_count": 3,
   "metadata": {},
   "outputs": [
    {
     "name": "stdout",
     "output_type": "stream",
     "text": [
      "Requirement already satisfied: selenium in d:\\new folder\\lib\\site-packages (3.141.0)\n",
      "Requirement already satisfied: urllib3 in d:\\new folder\\lib\\site-packages (from selenium) (1.25.11)\n"
     ]
    }
   ],
   "source": [
    "!pip install selenium"
   ]
  },
  {
   "cell_type": "code",
   "execution_count": 4,
   "metadata": {},
   "outputs": [],
   "source": [
    "#LET REQRURIED LALARARIES\n",
    "import selenium\n",
    "import pandas as pd\n",
    "from selenium import webdriver"
   ]
  },
  {
   "cell_type": "code",
   "execution_count": 5,
   "metadata": {},
   "outputs": [],
   "source": [
    "# go to link= https://chromedriver.chromium.org/downloads"
   ]
  },
  {
   "cell_type": "code",
   "execution_count": 41,
   "metadata": {},
   "outputs": [],
   "source": [
    "# lets frist connect to the web drivers\n",
    "driver= webdriver.Chrome(r\"C:\\Users\\G\\Downloads\\chromedriver_win32\\chromedriver.exe\")"
   ]
  },
  {
   "cell_type": "code",
   "execution_count": 42,
   "metadata": {},
   "outputs": [],
   "source": [
    "# spectfying the URL of the webpage to be scraped\n",
    "url= (\"https://www.glassdoor.co.in/Salaries/new-delhi-data-scientist-salary-SRCH_IL.0,9_IM1083_KO10,24.htm?clickSource=searchBtn\")"
   ]
  },
  {
   "cell_type": "code",
   "execution_count": 43,
   "metadata": {},
   "outputs": [],
   "source": [
    "# let open the webpage through our web drivers\n",
    "driver.get(url)"
   ]
  },
  {
   "cell_type": "code",
   "execution_count": 44,
   "metadata": {},
   "outputs": [],
   "source": [
    "company_name=[]\n",
    "number_of_salary=[]\n",
    "average_salary=[]\n",
    "min_salary=[]\n",
    "max_salary=[]"
   ]
  },
  {
   "cell_type": "code",
   "execution_count": 45,
   "metadata": {},
   "outputs": [
    {
     "data": {
      "text/plain": [
       "[<selenium.webdriver.remote.webelement.WebElement (session=\"9a7d94c9e012f68b61386d1db3249585\", element=\"8425cba7-14ae-4cc8-bf54-0dba7d1c331c\")>,\n",
       " <selenium.webdriver.remote.webelement.WebElement (session=\"9a7d94c9e012f68b61386d1db3249585\", element=\"afe123ff-c0cb-45a9-a1d2-eceba36d6b64\")>,\n",
       " <selenium.webdriver.remote.webelement.WebElement (session=\"9a7d94c9e012f68b61386d1db3249585\", element=\"7d6eda82-709f-4400-aac8-2ad238aa1c7b\")>,\n",
       " <selenium.webdriver.remote.webelement.WebElement (session=\"9a7d94c9e012f68b61386d1db3249585\", element=\"da0d63cf-1386-43ba-92f2-dcb02bd89cd3\")>]"
      ]
     },
     "execution_count": 45,
     "metadata": {},
     "output_type": "execute_result"
    }
   ],
   "source": [
    "# let extract all the tags having the company name\n",
    "company_tag= driver.find_elements_by_xpath(\"//p[@class='m-0 ']\")\n",
    "company_tag[0:4]"
   ]
  },
  {
   "cell_type": "code",
   "execution_count": 48,
   "metadata": {},
   "outputs": [
    {
     "data": {
      "text/plain": [
       "['Delhivery', 'Ericsson-Worldwide', 'Accenture', 'Tata Consultancy Services']"
      ]
     },
     "execution_count": 48,
     "metadata": {},
     "output_type": "execute_result"
    }
   ],
   "source": [
    "# let extracted comapny name all items for loop\n",
    "for i in company_tag:\n",
    "    company=i.text\n",
    "    company_name.append(company)\n",
    "company_name[0:4]"
   ]
  },
  {
   "cell_type": "code",
   "execution_count": 50,
   "metadata": {},
   "outputs": [
    {
     "data": {
      "text/plain": [
       "[<selenium.webdriver.remote.webelement.WebElement (session=\"9a7d94c9e012f68b61386d1db3249585\", element=\"7fe2f27f-0e53-4ddd-8bb2-5fdadd9e74d4\")>,\n",
       " <selenium.webdriver.remote.webelement.WebElement (session=\"9a7d94c9e012f68b61386d1db3249585\", element=\"4bcc46a5-5c17-4323-89b2-21bbe734d476\")>,\n",
       " <selenium.webdriver.remote.webelement.WebElement (session=\"9a7d94c9e012f68b61386d1db3249585\", element=\"cb107b7a-516a-45e0-8ed7-eb0d6ea84588\")>,\n",
       " <selenium.webdriver.remote.webelement.WebElement (session=\"9a7d94c9e012f68b61386d1db3249585\", element=\"c02cdc9f-6a7c-47cf-92e0-881a932847d2\")>]"
      ]
     },
     "execution_count": 50,
     "metadata": {},
     "output_type": "execute_result"
    }
   ],
   "source": [
    "# let extract all the tags having the number -of- salary\n",
    "salary_tag= driver.find_elements_by_xpath(\"//p[@class='css-1uyte9r css-1kuy7z7 m-0 ']\")\n",
    "salary_tag[0:4]"
   ]
  },
  {
   "cell_type": "code",
   "execution_count": 51,
   "metadata": {},
   "outputs": [
    {
     "data": {
      "text/plain": [
       "['13 salaries', '11 salaries', '10 salaries', '9 salaries']"
      ]
     },
     "execution_count": 51,
     "metadata": {},
     "output_type": "execute_result"
    }
   ],
   "source": [
    "# let extracted number of salary all items for loop\n",
    "for i in salary_tag:\n",
    "    salary=i.text\n",
    "    number_of_salary.append(salary)\n",
    "number_of_salary[0:4]"
   ]
  },
  {
   "cell_type": "code",
   "execution_count": null,
   "metadata": {},
   "outputs": [],
   "source": [
    "col-2 d-none d-md-flex flex-row justify-content-end"
   ]
  },
  {
   "cell_type": "code",
   "execution_count": 52,
   "metadata": {},
   "outputs": [
    {
     "data": {
      "text/plain": [
       "[<selenium.webdriver.remote.webelement.WebElement (session=\"9a7d94c9e012f68b61386d1db3249585\", element=\"145383ae-cd67-4503-ae59-edd1f2540f73\")>,\n",
       " <selenium.webdriver.remote.webelement.WebElement (session=\"9a7d94c9e012f68b61386d1db3249585\", element=\"614d66e8-5a41-4b82-a70a-372962365a1d\")>,\n",
       " <selenium.webdriver.remote.webelement.WebElement (session=\"9a7d94c9e012f68b61386d1db3249585\", element=\"17421497-ccc9-4f02-a367-6ba413322e48\")>,\n",
       " <selenium.webdriver.remote.webelement.WebElement (session=\"9a7d94c9e012f68b61386d1db3249585\", element=\"76cb84a5-43e1-4368-9312-76956859191d\")>]"
      ]
     },
     "execution_count": 52,
     "metadata": {},
     "output_type": "execute_result"
    }
   ],
   "source": [
    "# let extract all the tags having the average salary\n",
    "average_tag= driver.find_elements_by_xpath(\"//div[@class='col-2 d-none d-md-flex flex-row justify-content-end']\")\n",
    "average_tag[0:4]"
   ]
  },
  {
   "cell_type": "code",
   "execution_count": 54,
   "metadata": {},
   "outputs": [
    {
     "data": {
      "text/plain": [
       "['₹ 12,81,419\\n/yr', '₹ 7,52,052\\n/yr', '₹ 9,98,925\\n/yr', '₹ 6,02,000\\n/yr']"
      ]
     },
     "execution_count": 54,
     "metadata": {},
     "output_type": "execute_result"
    }
   ],
   "source": [
    "# let extracted average salary all items for loop\n",
    "for i in average_tag:\n",
    "    average=i.text\n",
    "    average_salary.append(average)\n",
    "average_salary[0:4]"
   ]
  },
  {
   "cell_type": "code",
   "execution_count": 131,
   "metadata": {},
   "outputs": [
    {
     "data": {
      "text/plain": [
       "[<selenium.webdriver.remote.webelement.WebElement (session=\"9a7d94c9e012f68b61386d1db3249585\", element=\"8167125d-ac25-41b0-9b37-8376da67ba24\")>,\n",
       " <selenium.webdriver.remote.webelement.WebElement (session=\"9a7d94c9e012f68b61386d1db3249585\", element=\"61070940-0a1e-40a2-b9b3-8edd1408fa5b\")>,\n",
       " <selenium.webdriver.remote.webelement.WebElement (session=\"9a7d94c9e012f68b61386d1db3249585\", element=\"59fe5857-d74e-4704-9da2-5036f22798bc\")>,\n",
       " <selenium.webdriver.remote.webelement.WebElement (session=\"9a7d94c9e012f68b61386d1db3249585\", element=\"abf4c7c2-79f7-4534-a229-fb20b35299ad\")>]"
      ]
     },
     "execution_count": 131,
     "metadata": {},
     "output_type": "execute_result"
    }
   ],
   "source": [
    "# let extract all the tags having the min salary\n",
    "Msalary_tag= driver.find_elements_by_xpath(\"//div[@class='common__RangeBarStyle__values common__flex__justifySpaceBetween common__flex__container ']\")\n",
    "Msalary_tag[0:4]"
   ]
  },
  {
   "cell_type": "code",
   "execution_count": 132,
   "metadata": {},
   "outputs": [
    {
     "data": {
      "text/plain": [
       "['Low', 'High', 'Low', 'High', 'Low']"
      ]
     },
     "execution_count": 132,
     "metadata": {},
     "output_type": "execute_result"
    }
   ],
   "source": [
    "# let extracted average salary all items for loop\n",
    "for i in Msalary_tag:\n",
    "    Msalary=i.text\n",
    "    min_salary.append(Msalary)\n",
    "min_salary[0:5]"
   ]
  },
  {
   "cell_type": "code",
   "execution_count": 129,
   "metadata": {},
   "outputs": [
    {
     "name": "stdout",
     "output_type": "stream",
     "text": [
      "60 20 20 326\n"
     ]
    }
   ],
   "source": [
    "print(len(company_name),\n",
    "len(number_of_salary),\n",
    "len(average_salary),\n",
    "len(min_salary))"
   ]
  },
  {
   "cell_type": "code",
   "execution_count": 133,
   "metadata": {},
   "outputs": [
    {
     "data": {
      "text/html": [
       "<div>\n",
       "<style scoped>\n",
       "    .dataframe tbody tr th:only-of-type {\n",
       "        vertical-align: middle;\n",
       "    }\n",
       "\n",
       "    .dataframe tbody tr th {\n",
       "        vertical-align: top;\n",
       "    }\n",
       "\n",
       "    .dataframe thead th {\n",
       "        text-align: right;\n",
       "    }\n",
       "</style>\n",
       "<table border=\"1\" class=\"dataframe\">\n",
       "  <thead>\n",
       "    <tr style=\"text-align: right;\">\n",
       "      <th></th>\n",
       "      <th>company</th>\n",
       "      <th>salary</th>\n",
       "      <th>average</th>\n",
       "      <th>Msalary</th>\n",
       "    </tr>\n",
       "  </thead>\n",
       "  <tbody>\n",
       "    <tr>\n",
       "      <th>0</th>\n",
       "      <td>Delhivery</td>\n",
       "      <td>13 salaries</td>\n",
       "      <td>₹ 12,81,419\\n/yr</td>\n",
       "      <td>Low</td>\n",
       "    </tr>\n",
       "    <tr>\n",
       "      <th>1</th>\n",
       "      <td>Ericsson-Worldwide</td>\n",
       "      <td>11 salaries</td>\n",
       "      <td>₹ 7,52,052\\n/yr</td>\n",
       "      <td>High</td>\n",
       "    </tr>\n",
       "    <tr>\n",
       "      <th>2</th>\n",
       "      <td>Accenture</td>\n",
       "      <td>10 salaries</td>\n",
       "      <td>₹ 9,98,925\\n/yr</td>\n",
       "      <td>Low</td>\n",
       "    </tr>\n",
       "    <tr>\n",
       "      <th>3</th>\n",
       "      <td>Tata Consultancy Services</td>\n",
       "      <td>9 salaries</td>\n",
       "      <td>₹ 6,02,000\\n/yr</td>\n",
       "      <td>High</td>\n",
       "    </tr>\n",
       "    <tr>\n",
       "      <th>4</th>\n",
       "      <td>IBM</td>\n",
       "      <td>9 salaries</td>\n",
       "      <td>₹ 7,71,657\\n/yr</td>\n",
       "      <td>Low</td>\n",
       "    </tr>\n",
       "    <tr>\n",
       "      <th>5</th>\n",
       "      <td>UnitedHealth Group</td>\n",
       "      <td>8 salaries</td>\n",
       "      <td>₹ 12,22,902\\n/yr</td>\n",
       "      <td>High</td>\n",
       "    </tr>\n",
       "    <tr>\n",
       "      <th>6</th>\n",
       "      <td>Valiance Solutions</td>\n",
       "      <td>8 salaries</td>\n",
       "      <td>₹ 7,91,015\\n/yr</td>\n",
       "      <td>Low</td>\n",
       "    </tr>\n",
       "    <tr>\n",
       "      <th>7</th>\n",
       "      <td>Innovaccer</td>\n",
       "      <td>7 salaries</td>\n",
       "      <td>₹ 12,15,138\\n/yr</td>\n",
       "      <td>High</td>\n",
       "    </tr>\n",
       "    <tr>\n",
       "      <th>8</th>\n",
       "      <td>Cognizant Technology Solutions</td>\n",
       "      <td>6 salaries</td>\n",
       "      <td>₹ 10,21,889\\n/yr</td>\n",
       "      <td>Low</td>\n",
       "    </tr>\n",
       "    <tr>\n",
       "      <th>9</th>\n",
       "      <td>ZS Associates</td>\n",
       "      <td>5 salaries</td>\n",
       "      <td>₹ 10,00,000\\n/yr</td>\n",
       "      <td>High</td>\n",
       "    </tr>\n",
       "  </tbody>\n",
       "</table>\n",
       "</div>"
      ],
      "text/plain": [
       "                          company       salary           average Msalary\n",
       "0                       Delhivery  13 salaries  ₹ 12,81,419\\n/yr     Low\n",
       "1              Ericsson-Worldwide  11 salaries   ₹ 7,52,052\\n/yr    High\n",
       "2                       Accenture  10 salaries   ₹ 9,98,925\\n/yr     Low\n",
       "3       Tata Consultancy Services   9 salaries   ₹ 6,02,000\\n/yr    High\n",
       "4                             IBM   9 salaries   ₹ 7,71,657\\n/yr     Low\n",
       "5              UnitedHealth Group   8 salaries  ₹ 12,22,902\\n/yr    High\n",
       "6              Valiance Solutions   8 salaries   ₹ 7,91,015\\n/yr     Low\n",
       "7                      Innovaccer   7 salaries  ₹ 12,15,138\\n/yr    High\n",
       "8  Cognizant Technology Solutions   6 salaries  ₹ 10,21,889\\n/yr     Low\n",
       "9                   ZS Associates   5 salaries  ₹ 10,00,000\\n/yr    High"
      ]
     },
     "execution_count": 133,
     "metadata": {},
     "output_type": "execute_result"
    }
   ],
   "source": [
    "import pandas as pd\n",
    "jobs= pd.DataFrame({})\n",
    "jobs['company']=company_name[0:10]\n",
    "jobs['salary']=number_of_salary[0:10]\n",
    "jobs['average']=average_salary[0:10]\n",
    "jobs['Msalary']=min_salary[0:10]\n",
    "jobs"
   ]
  },
  {
   "cell_type": "code",
   "execution_count": null,
   "metadata": {},
   "outputs": [],
   "source": []
  }
 ],
 "metadata": {
  "kernelspec": {
   "display_name": "Python 3",
   "language": "python",
   "name": "python3"
  },
  "language_info": {
   "codemirror_mode": {
    "name": "ipython",
    "version": 3
   },
   "file_extension": ".py",
   "mimetype": "text/x-python",
   "name": "python",
   "nbconvert_exporter": "python",
   "pygments_lexer": "ipython3",
   "version": "3.8.5"
  }
 },
 "nbformat": 4,
 "nbformat_minor": 4
}
